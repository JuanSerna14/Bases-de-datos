{
  "nbformat": 4,
  "nbformat_minor": 0,
  "metadata": {
    "colab": {
      "provenance": [],
      "authorship_tag": "ABX9TyNOUBVBP6fWeh+o7SwCbK0x",
      "include_colab_link": true
    },
    "kernelspec": {
      "name": "python3",
      "display_name": "Python 3"
    },
    "language_info": {
      "name": "python"
    }
  },
  "cells": [
    {
      "cell_type": "markdown",
      "metadata": {
        "id": "view-in-github",
        "colab_type": "text"
      },
      "source": [
        "<a href=\"https://colab.research.google.com/github/JuanSerna14/Bases-de-datos/blob/main/Untitled3.ipynb\" target=\"_parent\"><img src=\"https://colab.research.google.com/assets/colab-badge.svg\" alt=\"Open In Colab\"/></a>"
      ]
    },
    {
      "cell_type": "code",
      "execution_count": 1,
      "metadata": {
        "colab": {
          "base_uri": "https://localhost:8080/"
        },
        "id": "c3EFOrqb1s8g",
        "outputId": "9b50dd72-2543-41fa-8d2a-26edd2964814"
      },
      "outputs": [
        {
          "output_type": "stream",
          "name": "stdout",
          "text": [
            "  Nombre  Edad\n",
            "0    Ana    25\n",
            "1   Juan    30\n",
            "2  María    28\n"
          ]
        }
      ],
      "source": [
        "import pandas as pd\n",
        "\n",
        "# SOLUCIÓN: Crear un archivo CSV de ejemplo primero o verificar si existe\n",
        "# Opción 1: Crear datos de ejemplo\n",
        "datos = {'Nombre': ['Ana', 'Juan', 'María'], 'Edad': [25, 30, 28]}\n",
        "df = pd.DataFrame(datos)\n",
        "\n",
        "# Guardar el DataFrame como CSV temporal\n",
        "df.to_csv('datos_ejemplo.csv', index=False)\n",
        "\n",
        "# Ahora leer el archivo CSV\n",
        "df_leido = pd.read_csv('datos_ejemplo.csv')\n",
        "print(df_leido)"
      ]
    },
    {
      "cell_type": "code",
      "source": [
        "def factorial(n):\n",
        "    # SOLUCIÓN: Agregar condición de parada para n <= 1\n",
        "    if n <= 1:\n",
        "        return 1\n",
        "    else:\n",
        "        return n * factorial(n-1)\n",
        "\n",
        "print(factorial(5))"
      ],
      "metadata": {
        "colab": {
          "base_uri": "https://localhost:8080/"
        },
        "id": "xzpfJ_wO18nh",
        "outputId": "05f99ca6-8bf5-46f3-8b24-988569115e92"
      },
      "execution_count": 2,
      "outputs": [
        {
          "output_type": "stream",
          "name": "stdout",
          "text": [
            "120\n"
          ]
        }
      ]
    },
    {
      "cell_type": "code",
      "source": [
        "import numpy as np\n",
        "import matplotlib.pyplot as plt\n",
        "\n",
        "datos = np.random.normal(loc=50, scale=15, size=1000)\n",
        "\n",
        "# SOLUCIÓN: Especificar más parámetros para mejor visualización\n",
        "plt.figure(figsize=(10, 6))\n",
        "plt.hist(datos, bins=30, alpha=0.7, color='skyblue', edgecolor='black')\n",
        "plt.title('Distribución Normal - Histograma')\n",
        "plt.xlabel('Valores')\n",
        "plt.ylabel('Frecuencia')\n",
        "plt.grid(True, alpha=0.3)\n",
        "plt.show()"
      ],
      "metadata": {
        "colab": {
          "base_uri": "https://localhost:8080/",
          "height": 565
        },
        "id": "4nhI_Gfh2D1K",
        "outputId": "f918576f-675f-45de-d2cb-11165fd3668c"
      },
      "execution_count": 4,
      "outputs": [
        {
          "output_type": "display_data",
          "data": {
            "text/plain": [
              "<Figure size 1000x600 with 1 Axes>"
            ],
            "image/png": "[encoded data removed]"
          },
          "metadata": {}
        }
      ]
    },
    {
      "cell_type": "code",
      "source": [
        "import requests\n",
        "from bs4 import BeautifulSoup\n",
        "\n",
        "url = \"https://example.com\"\n",
        "\n",
        "# SOLUCIÓN: Agregar headers para simular un navegador real\n",
        "headers = {\n",
        "    'User-Agent': 'Mozilla/5.0 (Windows NT 10.0; Win64; x64) AppleWebKit/537.36 (KHTML, like Gecko) Chrome/91.0.4472.124 Safari/537.36'\n",
        "}\n",
        "\n",
        "try:\n",
        "    response = requests.get(url, headers=headers, timeout=10)\n",
        "    response.raise_for_status()  # Verificar si la petición fue exitosa\n",
        "\n",
        "    soup = BeautifulSoup(response.text, \"html.parser\")\n",
        "    print(soup.title.text if soup.title else \"No se encontró título\")\n",
        "\n",
        "except requests.exceptions.RequestException as e:\n",
        "    print(f\"Error en la petición: {e}\")"
      ],
      "metadata": {
        "colab": {
          "base_uri": "https://localhost:8080/"
        },
        "id": "Caj1RNzR2LuM",
        "outputId": "0a5a1f19-57af-4eb5-f5d1-2f10d2360a90"
      },
      "execution_count": 7,
      "outputs": [
        {
          "output_type": "stream",
          "name": "stdout",
          "text": [
            "Example Domain\n"
          ]
        }
      ]
    },
    {
      "cell_type": "code",
      "source": [
        "import numpy as np\n",
        "\n",
        "array = np.arange(10)  # [0, 1, 2, 3, 4, 5, 6, 7, 8, 9]\n",
        "\n",
        "# SOLUCIÓN: Usar dimensiones compatibles (3x3 = 9 elementos, pero tenemos 10)\n",
        "# Opción 1: Redimensionar a 2x5\n",
        "matrix = array.reshape(2, 5)\n",
        "\n",
        "# Opción 2: Usar -1 para dimensionamiento automático\n",
        "matrix_auto = array.reshape(5, -1)  # 5 filas, columnas automáticas\n",
        "\n",
        "print(\"Array original:\", array)\n",
        "print(\"Matriz 2x5:\\n\", matrix)\n",
        "print(\"Matriz automática:\\n\", matrix_auto)"
      ],
      "metadata": {
        "colab": {
          "base_uri": "https://localhost:8080/"
        },
        "id": "H7bBEbZY2UfO",
        "outputId": "6a5f1fa4-4481-4a2f-d945-ae42b04bf61e"
      },
      "execution_count": 8,
      "outputs": [
        {
          "output_type": "stream",
          "name": "stdout",
          "text": [
            "Array original: [0 1 2 3 4 5 6 7 8 9]\n",
            "Matriz 2x5:\n",
            " [[0 1 2 3 4]\n",
            " [5 6 7 8 9]]\n",
            "Matriz automática:\n",
            " [[0 1]\n",
            " [2 3]\n",
            " [4 5]\n",
            " [6 7]\n",
            " [8 9]]\n"
          ]
        }
      ]
    },
    {
      "cell_type": "code",
      "source": [
        "import threading\n",
        "\n",
        "contador = 0\n",
        "lock = threading.Lock()  # SOLUCIÓN: Agregar un Lock para sincronización\n",
        "\n",
        "def incrementar():\n",
        "    global contador\n",
        "    for _ in range(1000):\n",
        "        with lock:  # SOLUCIÓN: Usar el lock para acceso seguro\n",
        "            contador += 1\n",
        "\n",
        "t1 = threading.Thread(target=incrementar)\n",
        "t2 = threading.Thread(target=incrementar)\n",
        "\n",
        "t1.start()\n",
        "t2.start()\n",
        "t1.join()\n",
        "t2.join()\n",
        "\n",
        "print(\"Valor final del contador:\", contador)"
      ],
      "metadata": {
        "colab": {
          "base_uri": "https://localhost:8080/"
        },
        "id": "M-e-EEG12dbP",
        "outputId": "622a0583-b9d0-4bed-ca7e-81efe43327e4"
      },
      "execution_count": 9,
      "outputs": [
        {
          "output_type": "stream",
          "name": "stdout",
          "text": [
            "Valor final del contador: 2000\n"
          ]
        }
      ]
    },
    {
      "cell_type": "code",
      "source": [
        "import requests\n",
        "\n",
        "url = \"https://jsonplaceholder.typicode.com/posts/1\"\n",
        "\n",
        "try:\n",
        "    response = requests.get(url, timeout=10)\n",
        "\n",
        "    # SOLUCIÓN: Verificar el código de estado HTTP\n",
        "    response.raise_for_status()  # Lanza excepción para códigos 4xx/5xx\n",
        "\n",
        "    datos = response.json()\n",
        "    print(\"Datos obtenidos:\", datos)\n",
        "\n",
        "except requests.exceptions.HTTPError as err:\n",
        "    print(f\"Error HTTP: {err}\")\n",
        "except requests.exceptions.ConnectionError as err:\n",
        "    print(f\"Error de conexión: {err}\")\n",
        "except requests.exceptions.Timeout as err:\n",
        "    print(f\"Timeout: {err}\")\n",
        "except requests.exceptions.RequestException as err:\n",
        "    print(f\"Error en la petición: {err}\")"
      ],
      "metadata": {
        "colab": {
          "base_uri": "https://localhost:8080/"
        },
        "id": "MKUbmznz-H3_",
        "outputId": "91de9189-c690-434d-fb99-ed3e7d3cde7d"
      },
      "execution_count": 10,
      "outputs": [
        {
          "output_type": "stream",
          "name": "stdout",
          "text": [
            "Datos obtenidos: {'userId': 1, 'id': 1, 'title': 'sunt aut facere repellat provident occaecati excepturi optio reprehenderit', 'body': 'quia et suscipit\\nsuscipit recusandae consequuntur expedita et cum\\nreprehenderit molestiae ut ut quas totam\\nnostrum rerum est autem sunt rem eveniet architecto'}\n"
          ]
        }
      ]
    },
    {
      "cell_type": "code",
      "source": [
        "class Animal:\n",
        "    def __init__(self, nombre):\n",
        "        self.nombre = nombre\n",
        "\n",
        "class Perro(Animal):\n",
        "    def __init__(self, nombre, raza):\n",
        "        # SOLUCIÓN: Llamar al constructor de la clase base\n",
        "        super().__init__(nombre)\n",
        "        self.raza = raza\n",
        "\n",
        "    def ladrar(self):\n",
        "        print(f\"{self.nombre} ({self.raza}) está ladrando.\")\n",
        "\n",
        "mi_perro = Perro(\"Firulais\", \"Labrador\")\n",
        "mi_perro.ladrar()"
      ],
      "metadata": {
        "colab": {
          "base_uri": "https://localhost:8080/"
        },
        "id": "vrlGDUSG-S7P",
        "outputId": "3cd415ff-6c0d-4070-f02a-854ed2f29551"
      },
      "execution_count": 11,
      "outputs": [
        {
          "output_type": "stream",
          "name": "stdout",
          "text": [
            "Firulais (Labrador) está ladrando.\n"
          ]
        }
      ]
    },
    {
      "cell_type": "code",
      "source": [
        "import sqlite3\n",
        "\n",
        "conn = sqlite3.connect(\"database.db\")\n",
        "cursor = conn.cursor()\n",
        "\n",
        "cursor.execute(\"CREATE TABLE IF NOT EXISTS usuarios (id INTEGER PRIMARY KEY, nombre TEXT)\")\n",
        "cursor.execute(\"INSERT INTO usuarios (nombre) VALUES ('Juan')\")\n",
        "\n",
        "# SOLUCIÓN: Agregar commit() para guardar los cambios\n",
        "conn.commit()\n",
        "\n",
        "# Verificar la inserción\n",
        "cursor.execute(\"SELECT * FROM usuarios\")\n",
        "resultados = cursor.fetchall()\n",
        "print(\"Usuarios en la base de datos:\", resultados)\n",
        "\n",
        "conn.close()"
      ],
      "metadata": {
        "colab": {
          "base_uri": "https://localhost:8080/"
        },
        "id": "8_iYDy7T-Yww",
        "outputId": "5419b7c1-f2a2-4e34-869d-f772327b6bae"
      },
      "execution_count": 12,
      "outputs": [
        {
          "output_type": "stream",
          "name": "stdout",
          "text": [
            "Usuarios en la base de datos: [(1, 'Juan')]\n"
          ]
        }
      ]
    },
    {
      "cell_type": "code",
      "source": [
        "def bubble_sort(lista):\n",
        "    n = len(lista)\n",
        "    # SOLUCIÓN: Optimizar el rango y agregar bandera para eficiencia\n",
        "    for i in range(n):\n",
        "        intercambiado = False\n",
        "        # SOLUCIÓN: Reducir el rango en cada iteración\n",
        "        for j in range(0, n-i-1):\n",
        "            if lista[j] > lista[j+1]:\n",
        "                lista[j], lista[j+1] = lista[j+1], lista[j]\n",
        "                intercambiado = True\n",
        "        # Si no hubo intercambios, la lista ya está ordenada\n",
        "        if not intercambiado:\n",
        "            break\n",
        "\n",
        "numeros = [5, 3, 8, 1, 2]\n",
        "print(\"Lista original:\", numeros)\n",
        "bubble_sort(numeros)\n",
        "print(\"Lista ordenada:\", numeros)"
      ],
      "metadata": {
        "colab": {
          "base_uri": "https://localhost:8080/"
        },
        "id": "UWMBlfnd-cgk",
        "outputId": "18484dc3-4ad0-4d59-e32f-b3f579873566"
      },
      "execution_count": 13,
      "outputs": [
        {
          "output_type": "stream",
          "name": "stdout",
          "text": [
            "Lista original: [5, 3, 8, 1, 2]\n",
            "Lista ordenada: [1, 2, 3, 5, 8]\n"
          ]
        }
      ]
    }
  ]
}